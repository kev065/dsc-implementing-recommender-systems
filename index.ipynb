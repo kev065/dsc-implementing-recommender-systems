{
  "cells": [
    {
      "cell_type": "markdown",
      "metadata": {
        "id": "view-in-github",
        "colab_type": "text"
      },
      "source": [
        "<a href=\"https://colab.research.google.com/github/kev065/dsc-implementing-recommender-systems/blob/master/index.ipynb\" target=\"_parent\"><img src=\"https://colab.research.google.com/assets/colab-badge.svg\" alt=\"Open In Colab\"/></a>"
      ]
    },
    {
      "cell_type": "markdown",
      "metadata": {
        "id": "i4eIIO5onWBy"
      },
      "source": [
        "# Implementing Recommendation Engines with Surprise\n",
        "\n",
        "## Introduction\n",
        "\n",
        "This lesson will give you a brief introduction to implementing recommendation engines with a Python library called `surprise`. You'll get a chance to try out multiple different types of collaborative filtering engines, ranging from both basic neighborhood-based methods to matrix factorization methods."
      ]
    },
    {
      "cell_type": "markdown",
      "metadata": {
        "id": "QWqq0fM1nWB0"
      },
      "source": [
        "## Objectives\n",
        "You will be able to:\n",
        "\n",
        "- Use `surprise`'s built-in reader class to process data to work with recommender algorithms\n",
        "- Use `surprise` to create and cross-validate different recommender algorithms\n",
        "- Obtain a prediction for a specific user for a particular item"
      ]
    },
    {
      "cell_type": "markdown",
      "metadata": {
        "id": "dfeBCmp7nWB1"
      },
      "source": [
        "In this lesson, we'll be working with a dataset built-in to `surprise` called the `jester` dataset. This dataset contains jokes rated by users on a scale of -10 to 10 based off a user's perceived humor level for a given joke. Let's get recommending some jokes!\n",
        "\n",
        "First, you'll have to load the jokes dataset. You might have to download it first if prompted. Let's investigate the dataset after we load that. In this folder, you'll find the file for the text of jokes if you want to investigate what caliber of human you're dealing with here."
      ]
    },
    {
      "cell_type": "markdown",
      "metadata": {
        "id": "IaWmOm2mnWB2"
      },
      "source": [
        "***Install scikit surprise using this command***: `conda install -c conda-forge scikit-surprise`"
      ]
    },
    {
      "cell_type": "code",
      "source": [
        "pip install scikit-surprise"
      ],
      "metadata": {
        "id": "bjb5xwvenqc7",
        "outputId": "524cd7fb-18d2-4e39-ea58-48687b4b2526",
        "colab": {
          "base_uri": "https://localhost:8080/"
        }
      },
      "execution_count": 3,
      "outputs": [
        {
          "output_type": "stream",
          "name": "stdout",
          "text": [
            "Collecting scikit-surprise\n",
            "  Downloading scikit_surprise-1.1.4.tar.gz (154 kB)\n",
            "\u001b[?25l     \u001b[90m━━━━━━━━━━━━━━━━━━━━━━━━━━━━━━━━━━━━━━━━\u001b[0m \u001b[32m0.0/154.4 kB\u001b[0m \u001b[31m?\u001b[0m eta \u001b[36m-:--:--\u001b[0m\r\u001b[2K     \u001b[91m━━━━━━━━━━━━━━━━━━━━━━━━━━━━━━━━━━━━━━━\u001b[0m\u001b[91m╸\u001b[0m \u001b[32m153.6/154.4 kB\u001b[0m \u001b[31m4.6 MB/s\u001b[0m eta \u001b[36m0:00:01\u001b[0m\r\u001b[2K     \u001b[90m━━━━━━━━━━━━━━━━━━━━━━━━━━━━━━━━━━━━━━━━\u001b[0m \u001b[32m154.4/154.4 kB\u001b[0m \u001b[31m3.3 MB/s\u001b[0m eta \u001b[36m0:00:00\u001b[0m\n",
            "\u001b[?25h  Installing build dependencies ... \u001b[?25l\u001b[?25hdone\n",
            "  Getting requirements to build wheel ... \u001b[?25l\u001b[?25hdone\n",
            "  Preparing metadata (pyproject.toml) ... \u001b[?25l\u001b[?25hdone\n",
            "Requirement already satisfied: joblib>=1.2.0 in /usr/local/lib/python3.10/dist-packages (from scikit-surprise) (1.4.2)\n",
            "Requirement already satisfied: numpy>=1.19.5 in /usr/local/lib/python3.10/dist-packages (from scikit-surprise) (1.26.4)\n",
            "Requirement already satisfied: scipy>=1.6.0 in /usr/local/lib/python3.10/dist-packages (from scikit-surprise) (1.13.1)\n",
            "Building wheels for collected packages: scikit-surprise\n",
            "  Building wheel for scikit-surprise (pyproject.toml) ... \u001b[?25l\u001b[?25hdone\n",
            "  Created wheel for scikit-surprise: filename=scikit_surprise-1.1.4-cp310-cp310-linux_x86_64.whl size=2357279 sha256=c8800e294e6a6cdc69b8a6349cb18e86e6870290754aa01d9cc640cb29065d46\n",
            "  Stored in directory: /root/.cache/pip/wheels/4b/3f/df/6acbf0a40397d9bf3ff97f582cc22fb9ce66adde75bc71fd54\n",
            "Successfully built scikit-surprise\n",
            "Installing collected packages: scikit-surprise\n",
            "Successfully installed scikit-surprise-1.1.4\n"
          ]
        }
      ]
    },
    {
      "cell_type": "code",
      "execution_count": 4,
      "metadata": {
        "id": "dXCOs1HwnWB2",
        "outputId": "665605d6-78ba-42b7-ee63-9c7caa26618f",
        "colab": {
          "base_uri": "https://localhost:8080/"
        }
      },
      "outputs": [
        {
          "output_type": "stream",
          "name": "stdout",
          "text": [
            "Dataset jester could not be found. Do you want to download it? [Y/n] Y\n",
            "Trying to download dataset from https://eigentaste.berkeley.edu/dataset/archive/jester_dataset_2.zip...\n",
            "Done! Dataset jester has been saved to /root/.surprise_data/jester\n"
          ]
        }
      ],
      "source": [
        "from surprise import Dataset\n",
        "from surprise.model_selection import train_test_split\n",
        "\n",
        "jokes = Dataset.load_builtin(name=\"jester\")"
      ]
    },
    {
      "cell_type": "code",
      "execution_count": 5,
      "metadata": {
        "id": "L0fFPMqbnWB4",
        "outputId": "6d585258-974f-40bc-8516-3b24568d7edf",
        "colab": {
          "base_uri": "https://localhost:8080/",
          "height": 156
        }
      },
      "outputs": [
        {
          "output_type": "execute_result",
          "data": {
            "text/plain": [
              "surprise.dataset.DatasetAutoFolds"
            ],
            "text/html": [
              "<div style=\"max-width:800px; border: 1px solid var(--colab-border-color);\"><style>\n",
              "      pre.function-repr-contents {\n",
              "        overflow-x: auto;\n",
              "        padding: 8px 12px;\n",
              "        max-height: 500px;\n",
              "      }\n",
              "\n",
              "      pre.function-repr-contents.function-repr-contents-collapsed {\n",
              "        cursor: pointer;\n",
              "        max-height: 100px;\n",
              "      }\n",
              "    </style>\n",
              "    <pre style=\"white-space: initial; background:\n",
              "         var(--colab-secondary-surface-color); padding: 8px 12px;\n",
              "         border-bottom: 1px solid var(--colab-border-color);\"><b>surprise.dataset.DatasetAutoFolds</b><br/>def __init__(ratings_file=None, reader=None, df=None)</pre><pre class=\"function-repr-contents function-repr-contents-collapsed\" style=\"\"><a class=\"filepath\" style=\"display:none\" href=\"#\">/usr/local/lib/python3.10/dist-packages/surprise/dataset.py</a>A derived class from :class:`Dataset` for which folds (for\n",
              "cross-validation) are not predefined. (Or for when there are no folds at\n",
              "all).</pre>\n",
              "      <script>\n",
              "      if (google.colab.kernel.accessAllowed && google.colab.files && google.colab.files.view) {\n",
              "        for (const element of document.querySelectorAll('.filepath')) {\n",
              "          element.style.display = 'block'\n",
              "          element.onclick = (event) => {\n",
              "            event.preventDefault();\n",
              "            event.stopPropagation();\n",
              "            google.colab.files.view(element.textContent, 247);\n",
              "          };\n",
              "        }\n",
              "      }\n",
              "      for (const element of document.querySelectorAll('.function-repr-contents')) {\n",
              "        element.onclick = (event) => {\n",
              "          event.preventDefault();\n",
              "          event.stopPropagation();\n",
              "          element.classList.toggle('function-repr-contents-collapsed');\n",
              "        };\n",
              "      }\n",
              "      </script>\n",
              "      </div>"
            ]
          },
          "metadata": {},
          "execution_count": 5
        }
      ],
      "source": [
        "type(jokes)"
      ]
    },
    {
      "cell_type": "code",
      "execution_count": 6,
      "metadata": {
        "id": "nGtBsL8hnWB4"
      },
      "outputs": [],
      "source": [
        "# Split into train and test set\n",
        "trainset, testset = train_test_split(jokes, test_size=0.2)"
      ]
    },
    {
      "cell_type": "markdown",
      "metadata": {
        "id": "6qCfyQ7TnWB4"
      },
      "source": [
        "Notice how there is no `X_train` or `y_train` in our values here. Our only features here are the ratings of other users and items, so we need to keep everything together. What is happening in the train-test split here is that `surprise` is randomly selecting certain $r_{ij}$ for users $u_{i}$ and items $i_{j} $. 80% of the ratings are in the training set and 20% in the test set. Let's investigate `trainset` and `testset` further."
      ]
    },
    {
      "cell_type": "code",
      "execution_count": 7,
      "metadata": {
        "id": "Y00Vw3wKnWB5",
        "outputId": "77f541bd-b349-4a4e-90e9-5a393b0816e8",
        "colab": {
          "base_uri": "https://localhost:8080/"
        }
      },
      "outputs": [
        {
          "output_type": "stream",
          "name": "stdout",
          "text": [
            "Type trainset : <class 'surprise.trainset.Trainset'> \n",
            "\n",
            "Type testset : <class 'list'>\n"
          ]
        }
      ],
      "source": [
        "print(\"Type trainset :\", type(trainset), \"\\n\")\n",
        "print(\"Type testset :\", type(testset))"
      ]
    },
    {
      "cell_type": "markdown",
      "metadata": {
        "id": "6MZcZIv1nWB5"
      },
      "source": [
        "Interestingly enough, the values here are of different data types! The `trainset` is still a `surprise` specific data type that is optimized for computational efficiency and the `testset` is a standard Python list - you'll see why when we start making predictions. Let's take a look at how large our `testset` is as well as what's contained in an individual element. A sacrifice of `surprise`'s implementation is that we lose a lot of the exploratory methods that are present with Pandas."
      ]
    },
    {
      "cell_type": "code",
      "execution_count": 8,
      "metadata": {
        "id": "Q9MgWXTunWB5",
        "outputId": "2cec83b5-4447-46c6-c262-d247677d11e5",
        "colab": {
          "base_uri": "https://localhost:8080/"
        }
      },
      "outputs": [
        {
          "output_type": "stream",
          "name": "stdout",
          "text": [
            "352288\n",
            "('38583', '37', 3.688)\n"
          ]
        }
      ],
      "source": [
        "print(len(testset))\n",
        "print(testset[0])"
      ]
    },
    {
      "cell_type": "markdown",
      "metadata": {
        "id": "zTaZRbMnnWB6"
      },
      "source": [
        "## Memory-Based Methods (Neighborhood-Based)\n",
        "\n",
        "To begin with, we can calculate the more simple neighborhood-based approaches. Some things to keep in mind are what type of similarities you should use. These can all have fairly substantial effects on the overall performance of the model. You'll notice that the API of surprise is very similar to scikit-learn when it comes to model fitting and testing. To begin with, we'll import the modules we'll be using for the neighborhood-based methods."
      ]
    },
    {
      "cell_type": "code",
      "execution_count": 9,
      "metadata": {
        "id": "yMrHlIDHnWB6"
      },
      "outputs": [],
      "source": [
        "from surprise.prediction_algorithms import knns\n",
        "from surprise.similarities import cosine, msd, pearson\n",
        "from surprise import accuracy"
      ]
    },
    {
      "cell_type": "markdown",
      "metadata": {
        "id": "VotFgGnBnWB6"
      },
      "source": [
        "One of our first decisions is item-item similarity versus user-user similarity. For the sake of computation time, it's best to calculate the similarity between whichever number is fewer, users or items. Let's see what the case is for our training set."
      ]
    },
    {
      "cell_type": "code",
      "execution_count": 10,
      "metadata": {
        "id": "sHRlq2konWB7",
        "outputId": "6113d566-c1cd-4520-ab4f-496dc40153ba",
        "colab": {
          "base_uri": "https://localhost:8080/"
        }
      },
      "outputs": [
        {
          "output_type": "stream",
          "name": "stdout",
          "text": [
            "Number of users:  58778 \n",
            "\n",
            "Number of items:  140 \n",
            "\n"
          ]
        }
      ],
      "source": [
        "print(\"Number of users: \", trainset.n_users, \"\\n\")\n",
        "print(\"Number of items: \", trainset.n_items, \"\\n\")"
      ]
    },
    {
      "cell_type": "markdown",
      "metadata": {
        "id": "77ThwhfmnWB7"
      },
      "source": [
        "There are clearly way more users than items! We'll take that into account when inputting the specifications to our similarity metrics. Because we have fewer items than users, it will be more efficient to calculate item-item similarity rather than user-user similarity."
      ]
    },
    {
      "cell_type": "code",
      "execution_count": 11,
      "metadata": {
        "id": "Thzsds5GnWB8"
      },
      "outputs": [],
      "source": [
        "sim_cos = {\"name\": \"cosine\", \"user_based\": False}"
      ]
    },
    {
      "cell_type": "markdown",
      "metadata": {
        "id": "OmuI8bIinWB8"
      },
      "source": [
        "Now it's time to train our model. Note that if you decide to train this model with `user_based=True`, it will take quite some time!"
      ]
    },
    {
      "cell_type": "code",
      "execution_count": 12,
      "metadata": {
        "id": "xdJ18SGunWB8",
        "outputId": "487b6c85-7ef6-47bf-e5de-519b8edccca0",
        "colab": {
          "base_uri": "https://localhost:8080/"
        }
      },
      "outputs": [
        {
          "output_type": "stream",
          "name": "stdout",
          "text": [
            "Computing the cosine similarity matrix...\n",
            "Done computing similarity matrix.\n"
          ]
        },
        {
          "output_type": "execute_result",
          "data": {
            "text/plain": [
              "<surprise.prediction_algorithms.knns.KNNBasic at 0x7fa04a4df5b0>"
            ]
          },
          "metadata": {},
          "execution_count": 12
        }
      ],
      "source": [
        "basic = knns.KNNBasic(sim_options=sim_cos)\n",
        "basic.fit(trainset)"
      ]
    },
    {
      "cell_type": "markdown",
      "metadata": {
        "id": "642IbWEjnWB9"
      },
      "source": [
        "And now our model is fit! Let's take a look at the similarity metrics of each of the items to one another by using the `sim` attribute of our fitted model."
      ]
    },
    {
      "cell_type": "code",
      "execution_count": 13,
      "metadata": {
        "id": "xmB3iC1knWB9",
        "outputId": "3ccc18e5-b602-4682-df50-3e1b54114bf4",
        "colab": {
          "base_uri": "https://localhost:8080/"
        }
      },
      "outputs": [
        {
          "output_type": "execute_result",
          "data": {
            "text/plain": [
              "array([[ 1.        , -0.06876816,  0.48264252, ...,  0.24384169,\n",
              "         0.57377553,  0.53057949],\n",
              "       [-0.06876816,  1.        , -0.08220852, ...,  0.09657752,\n",
              "         0.03565105, -0.03975419],\n",
              "       [ 0.48264252, -0.08220852,  1.        , ...,  0.19801818,\n",
              "         0.44285865,  0.31843494],\n",
              "       ...,\n",
              "       [ 0.24384169,  0.09657752,  0.19801818, ...,  1.        ,\n",
              "         0.4649412 ,  0.55188332],\n",
              "       [ 0.57377553,  0.03565105,  0.44285865, ...,  0.4649412 ,\n",
              "         1.        ,  0.49900725],\n",
              "       [ 0.53057949, -0.03975419,  0.31843494, ...,  0.55188332,\n",
              "         0.49900725,  1.        ]])"
            ]
          },
          "metadata": {},
          "execution_count": 13
        }
      ],
      "source": [
        "basic.sim"
      ]
    },
    {
      "cell_type": "markdown",
      "metadata": {
        "id": "xHBA_edlnWB-"
      },
      "source": [
        "Now it's time to test the model to determine how well it performed."
      ]
    },
    {
      "cell_type": "code",
      "execution_count": 14,
      "metadata": {
        "id": "hwoQFZrxnWB-"
      },
      "outputs": [],
      "source": [
        "predictions = basic.test(testset)"
      ]
    },
    {
      "cell_type": "code",
      "execution_count": 15,
      "metadata": {
        "id": "Ya4J1X-hnWB-",
        "outputId": "12e260ca-b849-4cec-dd19-449e92e8d44c",
        "colab": {
          "base_uri": "https://localhost:8080/"
        }
      },
      "outputs": [
        {
          "output_type": "stream",
          "name": "stdout",
          "text": [
            "RMSE: 4.2133\n",
            "4.213324074746108\n"
          ]
        }
      ],
      "source": [
        "print(accuracy.rmse(predictions))"
      ]
    },
    {
      "cell_type": "markdown",
      "metadata": {
        "id": "Kh885_L7nWB-"
      },
      "source": [
        "Not a particularly amazing model.... As you can see, the model had an RMSE of about 4.5, meaning that it was off by roughly 4 points for each guess it made for ratings. Not horrendous when you consider we're working on a range of 20 points, but let's see if we can improve it. To begin with, let's try with a different similarity metric (Pearson correlation) and evaluate our RMSE."
      ]
    },
    {
      "cell_type": "code",
      "execution_count": 16,
      "metadata": {
        "id": "d7lmx3hnnWB-",
        "outputId": "563c162c-4c9b-403c-d2a9-a8ba66a1044a",
        "colab": {
          "base_uri": "https://localhost:8080/"
        }
      },
      "outputs": [
        {
          "output_type": "stream",
          "name": "stdout",
          "text": [
            "Computing the pearson similarity matrix...\n",
            "Done computing similarity matrix.\n",
            "RMSE: 4.2748\n",
            "4.274803575764187\n"
          ]
        }
      ],
      "source": [
        "sim_pearson = {\"name\": \"pearson\", \"user_based\": False}\n",
        "basic_pearson = knns.KNNBasic(sim_options=sim_pearson)\n",
        "basic_pearson.fit(trainset)\n",
        "predictions = basic_pearson.test(testset)\n",
        "print(accuracy.rmse(predictions))"
      ]
    },
    {
      "cell_type": "markdown",
      "metadata": {
        "id": "v3n4xDB4nWB_"
      },
      "source": [
        "Pearson correlation seems to have performed better than cosine similarity in the basic KNN model, we can go ahead and use Pearson correlation as our similarity metric of choice for future models. The next model we're going to try is [KNN with Means](https://surprise.readthedocs.io/en/stable/knn_inspired.html#surprise.prediction_algorithms.knns.KNNWithMeans). This is the same thing as the basic KNN model, except it takes into account the mean rating of each user or item depending on whether you are performing user-user or item-item similarities, respectively."
      ]
    },
    {
      "cell_type": "code",
      "execution_count": 17,
      "metadata": {
        "id": "eOfRRxSznWB_",
        "outputId": "b5475509-0f32-4c2d-f020-cb917e6b7933",
        "colab": {
          "base_uri": "https://localhost:8080/"
        }
      },
      "outputs": [
        {
          "output_type": "stream",
          "name": "stdout",
          "text": [
            "Computing the pearson similarity matrix...\n",
            "Done computing similarity matrix.\n",
            "RMSE: 4.1342\n",
            "4.1341633500421455\n"
          ]
        }
      ],
      "source": [
        "sim_pearson = {\"name\": \"pearson\", \"user_based\": False}\n",
        "knn_means = knns.KNNWithMeans(sim_options=sim_pearson)\n",
        "knn_means.fit(trainset)\n",
        "predictions = knn_means.test(testset)\n",
        "print(accuracy.rmse(predictions))"
      ]
    },
    {
      "cell_type": "markdown",
      "metadata": {
        "id": "feS2gtvpnWB_"
      },
      "source": [
        "A little better... let's try one more neighborhood-based method before moving into model-based methods. Let's try the [KNNBaseline](https://surprise.readthedocs.io/en/stable/knn_inspired.html#surprise.prediction_algorithms.knns.KNNBaseline) method. This is a more advanced method because it adds in a bias term that is calculated by way of minimizing a cost function represented by:\n",
        "\n",
        "$$ \\sum_{r_{ui} \\in R_{\\text{train}}}{(\\hat{r}_{ui} - ( \\mu + b_{i} + b_{u}))^{2} + \\lambda(b_u^2 + b_i^2) } $$\n",
        "\n",
        "With $b_i$ and $b_u$ being biases for items and users respectively and $\\mu$ referring to the global mean."
      ]
    },
    {
      "cell_type": "code",
      "execution_count": 18,
      "metadata": {
        "id": "9EbHAPePnWCA",
        "outputId": "124fb185-d84a-46d4-b7d3-24b68859f05a",
        "colab": {
          "base_uri": "https://localhost:8080/"
        }
      },
      "outputs": [
        {
          "output_type": "stream",
          "name": "stdout",
          "text": [
            "Estimating biases using als...\n",
            "Computing the pearson similarity matrix...\n",
            "Done computing similarity matrix.\n",
            "RMSE: 4.1302\n",
            "4.1301621856980155\n"
          ]
        }
      ],
      "source": [
        "sim_pearson = {\"name\": \"pearson\", \"user_based\": False}\n",
        "knn_baseline = knns.KNNBaseline(sim_options=sim_pearson)\n",
        "knn_baseline.fit(trainset)\n",
        "predictions = knn_baseline.test(testset)\n",
        "print(accuracy.rmse(predictions))"
      ]
    },
    {
      "cell_type": "markdown",
      "metadata": {
        "id": "YDKUtOI_nWCA"
      },
      "source": [
        "Even better! Now let's see if we can get some insight by applying some matrix factorization techniques!"
      ]
    },
    {
      "cell_type": "markdown",
      "metadata": {
        "id": "LKY6Cic6nWCA"
      },
      "source": [
        "## Model-Based Methods (Matrix Factorization)\n",
        "\n",
        "It's worth pointing out that when SVD is calculated for recommendation systems, it is preferred to be done with a modified version called \"Funk's SVD\" that only takes into account the rated values, ignoring whatever items have not been rated by users. The algorithm is named after Simon Funk, who was part of the team who placed 3rd in the Netflix challenge with this innovative way of performing matrix decomposition. Read more about Funk's SVD implementation at [his original blog post](https://sifter.org/~simon/journal/20061211.html). There is no simple way to include for this fact with SciPy's implementation of `svd()`, but luckily the `surprise` library has Funk's version of SVD implemented to make our lives easier!\n",
        "\n",
        "Similar to other `sklearn` features, we can expedite the process of trying out different parameters by using an implementation of grid search. Let's make use of the grid search here to account for some different configurations of parameters within the SVD pipeline. This might take some time! You'll notice that the `n_jobs` is parameter set to -1, which ensures that all of the cores on your computer will be used to process fitting and evaluating all of these models. To help keep track of what is occurring here, take note of the different values. This code ended up taking over 16 minutes to complete even with parallelization in effect, so the optimal parameters are given to you for the SVD model below. Use them to train a model and let's see how well it performs. If you want the full grid search experience, feel free to uncomment the code and give it a go!\n",
        "\n",
        "The optimal parameters are :\n",
        "\n",
        "```python\n",
        "{'n_factors': 100, 'n_epochs': 10, 'lr_all': 0.005, 'reg_all': 0.4}\n",
        "\n",
        "```"
      ]
    },
    {
      "cell_type": "code",
      "execution_count": 19,
      "metadata": {
        "id": "GNq8mI7OnWCA",
        "outputId": "bc831ffc-7010-4390-bc3b-ddf0d0c9ea3f",
        "colab": {
          "base_uri": "https://localhost:8080/"
        }
      },
      "outputs": [
        {
          "output_type": "stream",
          "name": "stderr",
          "text": [
            "[Parallel(n_jobs=-1)]: Using backend LokyBackend with 2 concurrent workers.\n",
            "[Parallel(n_jobs=-1)]: Done  14 tasks      | elapsed:  2.2min\n",
            "[Parallel(n_jobs=-1)]: Done  68 tasks      | elapsed: 11.6min\n",
            "[Parallel(n_jobs=-1)]: Done  80 out of  80 | elapsed: 14.3min finished\n"
          ]
        }
      ],
      "source": [
        "from surprise.prediction_algorithms import SVD\n",
        "from surprise.model_selection import GridSearchCV\n",
        "\n",
        "param_grid = {'n_factors':[20, 100],'n_epochs': [5, 10], 'lr_all': [0.002, 0.005],\n",
        "              'reg_all': [0.4, 0.6]}\n",
        "gs_model = GridSearchCV(SVD,param_grid=param_grid,n_jobs = -1,joblib_verbose=5)\n",
        "gs_model.fit(jokes)"
      ]
    },
    {
      "cell_type": "code",
      "execution_count": 20,
      "metadata": {
        "id": "uwqpzEL9nWCB",
        "outputId": "bea0cc82-5e75-4955-9591-05ef78cb786a",
        "colab": {
          "base_uri": "https://localhost:8080/"
        }
      },
      "outputs": [
        {
          "output_type": "stream",
          "name": "stdout",
          "text": [
            "RMSE: 4.2767\n",
            "4.276705324308507\n"
          ]
        }
      ],
      "source": [
        "svd = SVD(n_factors=100, n_epochs=10, lr_all=0.005, reg_all=0.4)\n",
        "svd.fit(trainset)\n",
        "predictions = svd.test(testset)\n",
        "print(accuracy.rmse(predictions))"
      ]
    },
    {
      "cell_type": "markdown",
      "metadata": {
        "id": "t6gMvHJ5nWCB"
      },
      "source": [
        "Interestingly, this model performed worse than the others! In general, the advantages of matrix factorization starts to show itself when the size of the dataset becomes massive. At that point, the storage challenges increase for the memory-based models, and there is enough data for latent factors to become extremely apparent."
      ]
    },
    {
      "cell_type": "markdown",
      "metadata": {
        "id": "x3tpdABXnWCB"
      },
      "source": [
        "## Making Predictions\n",
        "\n",
        "Now that we've explored some models, we can think about how we might fit the models into the context of an application. To begin with, let's access some basic functionality of `surprise` models to get predicted ratings for a given user and item. All that's needed are the `user_id` and `item_id` for which you want to make a prediction. Here we're making a prediction for user 34 and item 25 using the SVD model we just fit."
      ]
    },
    {
      "cell_type": "code",
      "execution_count": 21,
      "metadata": {
        "id": "QKUnwqi9nWCC",
        "outputId": "1f1cb207-f087-4b90-d3c7-d7816f0921e3",
        "colab": {
          "base_uri": "https://localhost:8080/"
        }
      },
      "outputs": [
        {
          "output_type": "execute_result",
          "data": {
            "text/plain": [
              "Prediction(uid='34', iid='25', r_ui=None, est=2.989696430398981, details={'was_impossible': False})"
            ]
          },
          "metadata": {},
          "execution_count": 21
        }
      ],
      "source": [
        "user_34_prediction = svd.predict(\"34\", \"25\")\n",
        "user_34_prediction"
      ]
    },
    {
      "cell_type": "markdown",
      "metadata": {
        "id": "DXRoOlzonWCC"
      },
      "source": [
        "The output of the prediction is a tuple. Here, we're going to access the estimated rating."
      ]
    },
    {
      "cell_type": "code",
      "execution_count": 22,
      "metadata": {
        "id": "-TzOF7FenWCC",
        "outputId": "75c36270-3ffe-4397-8e7c-36c75ed3a8c8",
        "colab": {
          "base_uri": "https://localhost:8080/"
        }
      },
      "outputs": [
        {
          "output_type": "execute_result",
          "data": {
            "text/plain": [
              "2.989696430398981"
            ]
          },
          "metadata": {},
          "execution_count": 22
        }
      ],
      "source": [
        "user_34_prediction[3]"
      ]
    },
    {
      "cell_type": "markdown",
      "metadata": {
        "id": "ehuKDOZEnWCL"
      },
      "source": [
        "You might be wondering, \"OK I'm making predictions about certain items rated by certain users, but how can I actually give certain N recommendations to an individual user?\" Although `surprise`  is a great library, it does not have this recommendation functionality built into it, but in the next lab, you will get some experience not only fitting recommendation system models, but also programmatically retrieving recommended items for each user."
      ]
    },
    {
      "cell_type": "markdown",
      "metadata": {
        "id": "u_zmXTCTnWCL"
      },
      "source": [
        "### Sources\n",
        "\n",
        "\n",
        "Jester dataset originally obtained from:\n",
        "\n",
        "[Eigentaste](http://www.ieor.berkeley.edu/~goldberg/pubs/eigentaste.pdf): A Constant Time Collaborative Filtering Algorithm. Ken Goldberg, Theresa Roeder, Dhruv Gupta, and Chris Perkins. Information Retrieval, 4(2), 133-151. July 2001.\n",
        "\n"
      ]
    },
    {
      "cell_type": "markdown",
      "metadata": {
        "id": "ooM92WK-nWCM"
      },
      "source": [
        "### Additional Resources\n",
        "\n",
        "- [Surprise Documentation](https://surprise.readthedocs.io/en/stable/index.html)\n",
        "- [Surprise Tutorial](https://blog.cambridgespark.com/tutorial-practical-introduction-to-recommender-systems-dbe22848392b)"
      ]
    },
    {
      "cell_type": "markdown",
      "metadata": {
        "id": "ce2KF8HsnWCM"
      },
      "source": [
        "## Summary\n",
        "\n",
        "You now should have an understanding of the basic considerations one should take note of when coding a recommendation system as well as how to implement them in different ways using `surprise`. In the upcoming lab, you will be tasked with fitting models using `surprise` and then retrieving those predicted values in a meaningful way to give recommendations to people. Let's see how well it works in action."
      ]
    }
  ],
  "metadata": {
    "kernelspec": {
      "display_name": "learn-env",
      "language": "python",
      "name": "python3"
    },
    "language_info": {
      "codemirror_mode": {
        "name": "ipython",
        "version": 3
      },
      "file_extension": ".py",
      "mimetype": "text/x-python",
      "name": "python",
      "nbconvert_exporter": "python",
      "pygments_lexer": "ipython3",
      "version": "3.10.14"
    },
    "colab": {
      "provenance": [],
      "include_colab_link": true
    }
  },
  "nbformat": 4,
  "nbformat_minor": 0
}